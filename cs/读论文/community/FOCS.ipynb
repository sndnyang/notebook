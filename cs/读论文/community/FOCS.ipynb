{
 "cells": [
  {
   "cell_type": "code",
   "execution_count": 2,
   "metadata": {
    "collapsed": false
   },
   "outputs": [],
   "source": [
    "%matplotlib inline \n",
    "\n",
    "import time\n",
    "import matplotlib.pyplot as plt\n",
    "import numpy as np\n",
    "\n",
    "\n",
    "import networkx as nx\n"
   ]
  },
  {
   "cell_type": "code",
   "execution_count": 3,
   "metadata": {
    "collapsed": false
   },
   "outputs": [],
   "source": [
    "def random_init_graph():\n",
    "    \n",
    "    import random\n",
    "    from itertools import combinations\n",
    "\n",
    "    edges = []\n",
    "    for (u, v) in combinations(range(10), 2):\n",
    "        r = random.random()\n",
    "        if r < 0.5:\n",
    "            edges.append((u, v))\n",
    "\n",
    "    for (u, v) in combinations(range(8), 2):\n",
    "        r = random.random()\n",
    "        if r < 0.5:\n",
    "            edges.append((u+10, v+10))\n",
    "\n",
    "    for (u, v) in combinations(range(9), 2):\n",
    "        r = random.random()\n",
    "        if r < 0.6:\n",
    "            edges.append((u+18, v+18))\n",
    "\n",
    "    for (u, v) in combinations(range(5), 2):\n",
    "        r = random.random()\n",
    "        if r < 0.4:\n",
    "            edges.append((u+27, v+27))\n",
    "\n",
    "    for (u, v) in combinations(range(6), 2):\n",
    "        r = random.random()\n",
    "        if r < 0.1:\n",
    "            edges.append((u, v+10))\n",
    "\n",
    "    for (u, v) in combinations(range(7), 2):\n",
    "        r = random.random()\n",
    "        if r < 0.3:\n",
    "            edges.append((u, v+18))\n",
    "\n",
    "    for (u, v) in combinations(range(6), 2):\n",
    "        r = random.random()\n",
    "        if r < 0.2:\n",
    "            edges.append((u, v+27))\n",
    "\n",
    "\n",
    "    print  len(edges)\n",
    "    test = nx.Graph()\n",
    "    test.add_edges_from(edges)\n",
    "    \n",
    "    fp = file('dataset'+str(len(test))+'.txt', 'w')\n",
    "    for (u, v) in edges:\n",
    "        fp.write('%d %d\\n' % (u, v))\n",
    "    fp.close()\n",
    "    nx.draw(test,  with_label = True)\n",
    "    pos = nx.spring_layout(test)\n",
    "    nx.draw_networkx(test, pos=pos)"
   ]
  },
  {
   "cell_type": "code",
   "execution_count": null,
   "metadata": {
    "collapsed": false
   },
   "outputs": [],
   "source": []
  },
  {
   "cell_type": "code",
   "execution_count": 4,
   "metadata": {
    "collapsed": true
   },
   "outputs": [],
   "source": [
    "added = {}"
   ]
  },
  {
   "cell_type": "code",
   "execution_count": 5,
   "metadata": {
    "collapsed": true
   },
   "outputs": [],
   "source": [
    "def initializeCommunities(g, k, S):\n",
    "    node_num = 0\n",
    "    degree = 0\n",
    "    for v in g.nodes():\n",
    "        neighbors = g.neighbors(v)\n",
    "        n_len = len(neighbors)\n",
    "        node_num += 1\n",
    "        degree += n_len\n",
    "        if n_len >= k:\n",
    "            S[v] = set(neighbors)\n",
    "            S[v].add(v)\n",
    "            #added[v] = set(neighbors)       \n",
    "    #print 'init finish'\n",
    "    print \"average degree is\", float(degree) / node_num\n",
    "    bucks = max(20, float(degree) / node_num)"
   ]
  },
  {
   "cell_type": "code",
   "execution_count": 6,
   "metadata": {
    "collapsed": false
   },
   "outputs": [],
   "source": [
    "def duplicationRemovel(S, ovl):\n",
    "    delete_list = []\n",
    "    nodes = sorted(S.keys())\n",
    "    count = 0\n",
    "    for u in nodes:\n",
    "        if u not in S:\n",
    "            continue\n",
    "\n",
    "        for v in sorted(S[u]):\n",
    "            if u == v:\n",
    "                continue\n",
    "\n",
    "            if v in S:\n",
    "                join = S[u].intersection(S[v])\n",
    "                join_len = len(join)\n",
    "                if u == 11878:\n",
    "                    print u, v, join, join_len\n",
    "                if join_len+0.001 >= ovl * len(S[u]) and join_len+0.001 >= ovl * len(S[v]):\n",
    "                    count += 1\n",
    "                    s = v if len(S[u]) > len(S[v]) else u\n",
    "                    m = u if s == v else v\n",
    "                    #print 'when %d , Communtiy %d removed for duplication. Duplicate with %d' % (u, s, m)\n",
    "                    \n",
    "                    S.pop(s)\n",
    "                    if s == u:\n",
    "                        break\n",
    "\n",
    "    return S"
   ]
  },
  {
   "cell_type": "code",
   "execution_count": 19,
   "metadata": {
    "collapsed": true
   },
   "outputs": [],
   "source": [
    "\n",
    "def xi(v, S, g):\n",
    "    neighbors = set(g.neighbors(v))    \n",
    "    return 1.0 * len(neighbors.intersection(S)) / len(neighbors)\n",
    "    \n",
    "def psi(C, Cdot):\n",
    "    return 1.0 * len(C.intersection(Cdot)) / min(len(C), len(Cdot))\n",
    "\n",
    "def findStayOff(temp):\n",
    "    anchor = 0\n",
    "    mark = 0\n",
    "\n",
    "    for e in range(len(temp)-1, 0, -1):\n",
    "        if not mark and temp[e]:\n",
    "            mark = e\n",
    "            break\n",
    "            \n",
    "    #print temp, mark,\n",
    "    for e in range(mark-1, 0, -1):\n",
    "        if temp[e] < temp[mark]:\n",
    "            mark = e\n",
    "\n",
    "        if temp[e-1] >= temp[e] and temp[e] == temp[mark]:\n",
    "            \n",
    "     #       print mark, e\n",
    "            anchor = e+1\n",
    "            break\n",
    "    #print anchor\n",
    "    return anchor"
   ]
  },
  {
   "cell_type": "code",
   "execution_count": 8,
   "metadata": {
    "collapsed": false
   },
   "outputs": [
    {
     "name": "stdout",
     "output_type": "stream",
     "text": [
      "9\n"
     ]
    }
   ],
   "source": [
    "temp = [6, 1, 2, 2, 2, 1, 0, 0, 0, 1, 1, 0, 0, 1, 0, 0, 0, 0, 2, 0, 0]\n",
    "print findStayOff(temp)"
   ]
  },
  {
   "cell_type": "code",
   "execution_count": 9,
   "metadata": {
    "collapsed": false
   },
   "outputs": [
    {
     "ename": "NameError",
     "evalue": "name 'G' is not defined",
     "output_type": "error",
     "traceback": [
      "\u001b[1;31m---------------------------------------------------------------------------\u001b[0m",
      "\u001b[1;31mNameError\u001b[0m                                 Traceback (most recent call last)",
      "\u001b[1;32m<ipython-input-9-af98e7840219>\u001b[0m in \u001b[0;36m<module>\u001b[1;34m()\u001b[0m\n\u001b[1;32m----> 1\u001b[1;33m \u001b[1;32mprint\u001b[0m \u001b[0mG\u001b[0m\u001b[1;33m.\u001b[0m\u001b[0mneighbors\u001b[0m\u001b[1;33m(\u001b[0m\u001b[1;36m23757\u001b[0m\u001b[1;33m)\u001b[0m\u001b[1;33m\u001b[0m\u001b[0m\n\u001b[0m\u001b[0;32m      2\u001b[0m \u001b[0mx\u001b[0m \u001b[1;33m=\u001b[0m \u001b[0mset\u001b[0m\u001b[1;33m(\u001b[0m\u001b[0mG\u001b[0m\u001b[1;33m.\u001b[0m\u001b[0mneighbors\u001b[0m\u001b[1;33m(\u001b[0m\u001b[1;36m23757\u001b[0m\u001b[1;33m)\u001b[0m\u001b[1;33m)\u001b[0m\u001b[1;33m\u001b[0m\u001b[0m\n\u001b[0;32m      3\u001b[0m \u001b[1;32mfor\u001b[0m \u001b[0mi\u001b[0m \u001b[1;32min\u001b[0m \u001b[0mG\u001b[0m\u001b[1;33m.\u001b[0m\u001b[0mneighbors\u001b[0m\u001b[1;33m(\u001b[0m\u001b[1;36m23757\u001b[0m\u001b[1;33m)\u001b[0m\u001b[1;33m:\u001b[0m\u001b[1;33m\u001b[0m\u001b[0m\n\u001b[0;32m      4\u001b[0m     \u001b[1;32mif\u001b[0m \u001b[0mi\u001b[0m \u001b[1;32mnot\u001b[0m \u001b[1;32min\u001b[0m \u001b[0mS\u001b[0m\u001b[1;33m:\u001b[0m\u001b[1;33m\u001b[0m\u001b[0m\n\u001b[0;32m      5\u001b[0m         \u001b[1;32mcontinue\u001b[0m\u001b[1;33m\u001b[0m\u001b[0m\n",
      "\u001b[1;31mNameError\u001b[0m: name 'G' is not defined"
     ]
    }
   ],
   "source": [
    "print G.neighbors(23757)\n",
    "x = set(G.neighbors(23757))\n",
    "for i in G.neighbors(23757):\n",
    "    if i not in S:\n",
    "        continue\n",
    "    print i, S[i].intersection(x)\n",
    "    \n",
    "v = 23757\n",
    "print zeta_scores[23757]\n",
    "\n",
    "anchor = selectBucket(zeta_scores[v].values(), bucks)\n",
    "\n",
    "x = [0.23809523809523808, 0.13333333333333333, 0.18181818181818182, 0, 0.9, 0.13333333333333333, 0.25, 0, 0.6666666666666666, \n",
    "     0.5, 0.46153846153846156, 0, 0.18181818181818182, 0.05, 0.2222222222222222, 0, 0, 0.9411764705882353, 0]\n",
    "\n",
    "print selectBucket(x, bucks)"
   ]
  },
  {
   "cell_type": "code",
   "execution_count": 10,
   "metadata": {
    "collapsed": false
   },
   "outputs": [],
   "source": [
    "def zeta(v, S, g, k):\n",
    "    neighbors = set(g.neighbors(v)).intersection(S)\n",
    "    return 1.0*(len(neighbors)-k+1)/(len(S) - k) if len(neighbors) > k else 0\n",
    "    \n",
    "def computeScoreList(S, g, k):\n",
    "    zeta_scores = {}\n",
    "    count = 0\n",
    "    join_scores = {}\n",
    "    \n",
    "    for i in S:\n",
    "        for vj in S[i]:\n",
    "            zeta_scores[vj] = {}\n",
    "            join_scores[vj] = {}\n",
    "            \n",
    "    for i in S:\n",
    "        Si = S[i]\n",
    "        Si_len = len(Si)\n",
    "        count += Si_len    \n",
    "        \n",
    "        for vj in Si:\n",
    "            if vj == i:\n",
    "                continue\n",
    "\n",
    "            neighbors = g.neighbors(vj)\n",
    "            n_len = len(neighbors)\n",
    "            \n",
    "            sin = Si.intersection(neighbors)\n",
    "            sin_len = len(sin)\n",
    "            \n",
    "            if sin_len < k:\n",
    "                zeta_scores[vj][i] = 0\n",
    "                join_scores[vj][i] = 0\n",
    "            else:\n",
    "                zetascore = float(sin_len - k) / (Si_len - k)\n",
    "                joinscore = sin_len / n_len\n",
    "                zeta_scores[vj][i] = zetascore\n",
    "                zeta_scores[vj]\n",
    "                #k = zetascore \n",
    "                join_scores[vj][i] = joinscore\n",
    "\n",
    "    #print 'zeta compute count', count\n",
    "    # for vj in zeta_scores:\n",
    "    #    print vj, zeta_scores[vj], g.neighbors(vj)\n",
    "    return zeta_scores, join_scores\n"
   ]
  },
  {
   "cell_type": "code",
   "execution_count": 11,
   "metadata": {
    "collapsed": false
   },
   "outputs": [],
   "source": [
    "\n",
    "def leaveCommunities(S, g, k, ovl, zeta_scores, zetacut):    \n",
    "    delete_list = []\n",
    "    leave = True\n",
    "    \n",
    "    for s in sorted(S.keys()):\n",
    "        count = len(S[s])\n",
    "        for n in sorted(S[s]):\n",
    "            if n == s:\n",
    "                continue\n",
    "\n",
    "            if n not in zetacut or zeta_scores[n][s] < (zetacut[n]-0.001)/bucks or zeta_scores[n][s] <= 0.001:\n",
    "                S[s].remove(n)\n",
    "                count -= 1\n",
    "                \n",
    "            if count <= k:\n",
    "                S.pop(s)\n",
    "                leave = False\n",
    "                break\n",
    "    \n",
    "    return leave"
   ]
  },
  {
   "cell_type": "code",
   "execution_count": 12,
   "metadata": {
    "collapsed": true
   },
   "outputs": [],
   "source": [
    "def selectBucket(scores_list, count):\n",
    "\n",
    "    comm_count = 0\n",
    "    bucket_list = [0] * count\n",
    "    for e in scores_list:\n",
    "        if e < 0.001:\n",
    "            continue\n",
    "        comm_count += 1\n",
    "        bucket = int((e-0.001) * count)\n",
    "        #print bucket, 'count ' , count, 'e ', e\n",
    "        bucket_list[bucket] += 1\n",
    "    if comm_count > 1:\n",
    "        anchor = findStayOff(bucket_list)\n",
    "    else:\n",
    "        anchor = 0\n",
    "    #fp.write(\" %s comm_count %d bucket is %d\\n\" % (str(bucket_list), comm_count, anchor))\n",
    "    #print \" %s comm_count %d bucket is %d\\n\" % (str(bucket_list), comm_count, anchor)\n",
    "    #print bucket_list, \n",
    "    return anchor"
   ]
  },
  {
   "cell_type": "code",
   "execution_count": 13,
   "metadata": {
    "collapsed": false
   },
   "outputs": [],
   "source": [
    "def expandCommunities(S, g, join_scores):\n",
    "\n",
    "    for v in join_scores:\n",
    "        count = bucks\n",
    "        anchor = selectBucket(join_scores[v].values(), count)\n",
    "        join_scores[v]['cutoff'] = (anchor-1) * 1.0 / count\n",
    "    \n",
    "    #for e in join_scores:\n",
    "     #   print e, join_scores[e]\n",
    "    #for e in added:\n",
    "    #    print e, added[e]\n",
    "    \n",
    "    status = True\n",
    "    #nowadded = {}\n",
    "    for i in S:\n",
    "        #nowadded[i] = set()\n",
    "        for vj in list(S[i]):\n",
    "            for uk in g.neighbors(vj):\n",
    "                if uk not in join_scores or i not in join_scores[uk]:\n",
    "                    #print 'not in' , uk, i, uk not in join_scores, i not in join_scores[uk]\n",
    "                    continue\n",
    "                if join_scores[uk][i] > join_scores[uk]['cutoff'] and uk not in S[i]:\n",
    "                    S[i].add(uk)\n",
    "                    status = False\n",
    "    return status"
   ]
  },
  {
   "cell_type": "code",
   "execution_count": 14,
   "metadata": {
    "collapsed": true
   },
   "outputs": [],
   "source": [
    "def summary_cluster(S):\n",
    "    count = 0\n",
    "    for i in S:\n",
    "        count += len(S[i])\n",
    "    return len(S), count"
   ]
  },
  {
   "cell_type": "code",
   "execution_count": 15,
   "metadata": {
    "collapsed": true
   },
   "outputs": [],
   "source": [
    "def preferredCommunities(g, k, ovl):\n",
    "    S = {}\n",
    "    \n",
    "    initializeCommunities(g, k, S)\n",
    "    print \"init stage, cluster %d ge, total node %d\" % summary_cluster(S), time.time() - prev\n",
    "    expand = 10\n",
    "    while expand:\n",
    "        \n",
    "        if expand <= 0:\n",
    "            break\n",
    "        expand -= 1\n",
    "\n",
    "        t = 10\n",
    "        while t:\n",
    "            t -= 1\n",
    "            S = duplicationRemovel(S, ovl)\n",
    "\n",
    "            print 'After duplicate removal, cluster %d ge, total node %d' % summary_cluster(S), time.time() - prev\n",
    "\n",
    "            zeta_scores, join_scores = computeScoreList(S, g, k)\n",
    "                                    \n",
    "            zeta_cutoff = {}\n",
    "\n",
    "            for v in zeta_scores:\n",
    "                anchor = selectBucket(zeta_scores[v].values(), bucks)\n",
    "                zeta_cutoff[v] = anchor\n",
    "\n",
    "            leave = leaveCommunities(S, g, k, ovl, zeta_scores, zeta_cutoff)\n",
    "            print 'After leave function, cluster %d ge, total node %d' % summary_cluster(S), time.time() - prev\n",
    "\n",
    "            if leave:\n",
    "                break\n",
    "\n",
    "        status = expandCommunities(S, g, join_scores)\n",
    "        print 'After expand function, cluster %d ge, total node %d' % summary_cluster(S), time.time() - prev\n",
    "        if status:\n",
    "            break\n",
    "\n",
    "    print 'finish, cluster %d ge, total node %d' % summary_cluster(S)\n",
    "    return S"
   ]
  },
  {
   "cell_type": "code",
   "execution_count": 16,
   "metadata": {
    "collapsed": false
   },
   "outputs": [],
   "source": [
    "#data = np.loadtxt('G:/project/dataset/dblp/com-dblp.ungraph.txt', dtype=np.int32, delimiter='\\t')\n",
    "data = np.loadtxt('G:/software/open_source/focs-master/tmp.txt', dtype=np.int32, delimiter='\\t', usecols=(0, 1))\n",
    "G = nx.Graph()\n",
    "G.add_edges_from(data)\n",
    "g = nx.adjacency_matrix(G)"
   ]
  },
  {
   "cell_type": "code",
   "execution_count": null,
   "metadata": {
    "collapsed": false
   },
   "outputs": [],
   "source": [
    "print G.number_of_nodes()"
   ]
  },
  {
   "cell_type": "code",
   "execution_count": 17,
   "metadata": {
    "collapsed": false
   },
   "outputs": [
    {
     "name": "stdout",
     "output_type": "stream",
     "text": [
      "average degree is 6.83028835571\n"
     ]
    }
   ],
   "source": [
    "S = {}\n",
    "bucks = 20\n",
    "k = 2\n",
    "OVL = 0.6\n",
    "initializeCommunities(G, k, S)\n",
    "#print summary_cluster(S)\n",
    "#duplicationRemovel(S, OVL)\n",
    "#print summary_cluster(S)\n"
   ]
  },
  {
   "cell_type": "code",
   "execution_count": 11,
   "metadata": {
    "collapsed": false
   },
   "outputs": [
    {
     "name": "stdout",
     "output_type": "stream",
     "text": [
      "341\n",
      "34\n",
      "set([175011, 40935, 106127, 28051, 36087, 96057])\n"
     ]
    }
   ],
   "source": [
    "print len(S[40935])\n",
    "print len(S[175011])\n",
    "print S[40935].intersection(S[175011])"
   ]
  },
  {
   "cell_type": "code",
   "execution_count": 138,
   "metadata": {
    "collapsed": true
   },
   "outputs": [],
   "source": [
    "\n",
    "zeta_scores, join_scores = computeScoreList(S, G, k)\n",
    "\n",
    "zeta_cutoff = {}\n",
    "\n",
    "fp = file('G:/software/open_source/focs-master/cutoff_pyt.txt', 'w')\n",
    "for v in sorted(G.nodes()):\n",
    "    count = bucks\n",
    "    fp.write(\"phase 1 iter 0 cutoff %d \" % v)\n",
    "    if v in zeta_scores:\n",
    "        anchor = selectBucket(zeta_scores[v].values(), bucks)\n",
    "    else:\n",
    "        anchor = selectBucket([], bucks)\n",
    "    zeta_cutoff[v] = anchor\n",
    "    #print v, zeta_scores[v]['cutoff']\n",
    "fp.close()"
   ]
  },
  {
   "cell_type": "code",
   "execution_count": 140,
   "metadata": {
    "collapsed": false
   },
   "outputs": [
    {
     "name": "stdout",
     "output_type": "stream",
     "text": [
      "(703, 4291)\n"
     ]
    }
   ],
   "source": [
    "#print len(S.keys())\n",
    "#for i in sorted(S.keys()):\n",
    "leaveCommunities(S, G, k, OVL, zeta_scores, zeta_cutoff)\n",
    "print summary_cluster(S)\n",
    "#fp = file('G:/software/open_source/focs-master/cutoff_pyt.txt', 'w')\n",
    "#for v in sorted(zeta_scores):\n",
    " #   count = bucks\n",
    "  #  fp.write(\"phase 1 cutoff %d \" % v)\n",
    "   # anchor = selectBucket(zeta_scores[v].values(), bucks)\n",
    "    #print v, anchor\n",
    "    #print v, zeta_scores[v]['cutoff']\n",
    "#fp.close()"
   ]
  },
  {
   "cell_type": "code",
   "execution_count": 20,
   "metadata": {
    "collapsed": false,
    "scrolled": true
   },
   "outputs": [
    {
     "name": "stdout",
     "output_type": "stream",
     "text": [
      "average degree is 6.83028835571\n",
      "init stage, cluster 5995 ge, total node 64964 0.0380001068115\n",
      "11878 56537 set([56537, 11878]) 2\n",
      "11878 83823 set([11878, 83823]) 2\n",
      "After duplicate removal, cluster 5738 ge, total node 62242 0.186000108719\n",
      "After leave function, cluster 703 ge, total node 4291 0.699000120163\n",
      "After duplicate removal, cluster 596 ge, total node 3852 0.705000162125\n",
      "After leave function, cluster 181 ge, total node 972 0.745000123978\n",
      "After duplicate removal, cluster 181 ge, total node 972 0.746000051498\n",
      "After leave function, cluster 122 ge, total node 700 0.756000041962\n",
      "After duplicate removal, cluster 122 ge, total node 700 0.757000207901\n",
      "After leave function, cluster 117 ge, total node 678 0.764000177383\n",
      "After duplicate removal, cluster 117 ge, total node 678 0.765000104904\n",
      "After leave function, cluster 116 ge, total node 675 0.774000167847\n",
      "After duplicate removal, cluster 116 ge, total node 675 0.774000167847\n",
      "After leave function, cluster 116 ge, total node 675 0.781000137329\n",
      "After expand function, cluster 116 ge, total node 675 0.789000034332\n",
      "finish, cluster 116 ge, total node 675\n",
      "total time 0.790000200272\n"
     ]
    }
   ],
   "source": [
    "S = {}\n",
    "bucks = 20\n",
    "prev = time.time()\n",
    "start = prev\n",
    "z = preferredCommunities(G, 2, 0.6)\n",
    "print 'total time', time.time() - start"
   ]
  },
  {
   "cell_type": "code",
   "execution_count": null,
   "metadata": {
    "collapsed": false,
    "scrolled": true
   },
   "outputs": [],
   "source": [
    "\n",
    "z = preferredCommunities(test, 2, 0.6)\n"
   ]
  },
  {
   "cell_type": "code",
   "execution_count": null,
   "metadata": {
    "collapsed": false
   },
   "outputs": [],
   "source": [
    "colors = ['r'] * len(test.nodes())\n",
    "cmap = {0:'b', 10:'yellow', 27:'g'}\n",
    "for e in z:\n",
    "    \n",
    "    for n in z[e]:\n",
    "        colors[n] = cmap[e]\n",
    "print colors\n"
   ]
  },
  {
   "cell_type": "code",
   "execution_count": null,
   "metadata": {
    "collapsed": false
   },
   "outputs": [],
   "source": [
    "nx.draw_networkx(test, node_size=150, node_color=colors)"
   ]
  },
  {
   "cell_type": "code",
   "execution_count": null,
   "metadata": {
    "collapsed": false,
    "scrolled": true
   },
   "outputs": [],
   "source": [
    "pcdqdata = np.loadtxt('G:/software/open_source/focs-master/tmp.txt', dtype=np.int32, delimiter='\\t', usecols=(0, 1))\n",
    "pcdqG = nx.Graph()\n",
    "pcdqG.add_edges_from(pcdqdata)\n",
    "g = nx.adjacency_matrix(pcdqG)\n"
   ]
  },
  {
   "cell_type": "code",
   "execution_count": null,
   "metadata": {
    "collapsed": false
   },
   "outputs": [],
   "source": [
    "pcdqS = {}\n",
    "added = {}\n",
    "prev = time.time()\n",
    "\n",
    "z = preferredCommunities(pcdqG, 2, 0.6)\n",
    "print time.time() - prev"
   ]
  },
  {
   "cell_type": "code",
   "execution_count": null,
   "metadata": {
    "collapsed": false
   },
   "outputs": [],
   "source": [
    "pcdqS = {}\n",
    "added = {}\n",
    "prev = time.time()\n",
    "\n",
    "initializeCommunities(pcdqG, 2, pcdqS)\n",
    "duplicationRemovel(pcdqS, 0.6)\n",
    "\n",
    "\n",
    "#z = preferredCommunities(pcdqG, 2, 0.6)\n",
    "print time.time() - prev"
   ]
  },
  {
   "cell_type": "code",
   "execution_count": null,
   "metadata": {
    "collapsed": false,
    "scrolled": true
   },
   "outputs": [],
   "source": [
    "log = file('log1.txt', 'w')\n",
    "\n",
    "for u in sorted(pcdqS.keys())[:10]:\n",
    "    for v in sorted(pcdqS[u]):\n",
    "        if u == v:\n",
    "            continue\n",
    "        print u, v, zeta_scores[v]['cutoff'], zeta_scores[v][u]\n",
    "        #log.write(\"node %d nei node %d, cut-off %.3f, real score %.3f\\n\" % (u, v, zeta_scores[v]['cutoff'], zeta_scores[v][u]))\n",
    "        \n",
    "log.close()"
   ]
  },
  {
   "cell_type": "code",
   "execution_count": null,
   "metadata": {
    "collapsed": false,
    "scrolled": false
   },
   "outputs": [],
   "source": [
    "print pcdqS[275]\n",
    "print zeta_scores[275]['cutoff']\n",
    "print zeta_scores[31054 ]\n",
    "x = zeta_scores[275].values()\n",
    "\n",
    "ratio = 0.05\n",
    "bucket_list = [0] * 21\n",
    "for e in x:\n",
    "    bucket = int(e / ratio)\n",
    "    #print bucket, 'count ' , count, 'e ', e\n",
    "    bucket_list[bucket] += 1\n",
    "print bucket_list\n",
    "anchor = selectBucket(x, 20)\n",
    "print anchor\n",
    "print ratio * (anchor - 1)"
   ]
  }
 ],
 "metadata": {
  "kernelspec": {
   "display_name": "Python 2",
   "language": "python",
   "name": "python2"
  },
  "language_info": {
   "codemirror_mode": {
    "name": "ipython",
    "version": 2
   },
   "file_extension": ".py",
   "mimetype": "text/x-python",
   "name": "python",
   "nbconvert_exporter": "python",
   "pygments_lexer": "ipython2",
   "version": "2.7.11"
  }
 },
 "nbformat": 4,
 "nbformat_minor": 0
}
